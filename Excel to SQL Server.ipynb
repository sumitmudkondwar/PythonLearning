{
 "cells": [
  {
   "cell_type": "code",
   "execution_count": 6,
   "metadata": {},
   "outputs": [],
   "source": [
    "import pandas as pd\n",
    "import pyodbc\n",
    "\n",
    "df = pd.read_excel('test.xlsx', sheet_name='Sheet1')\n",
    "\n",
    "cnxn = pyodbc.connect(\"Driver={SQL Server Native Client 11.0};\"\n",
    "                        \"Server=10.185.193.59;\"\n",
    "                        \"Database=batconfig;\"\n",
    "                        \"uid=price;pwd=price\")\n",
    "\n",
    "cursor = cnxn.cursor()\n",
    "\n",
    "for index,row in df.iterrows():\n",
    "    cursor.execute(\"INSERT INTO dbo.test([Name],[Address]) values (?,?)\", row['Name'], row['Address']) \n",
    "    cnxn.commit()\n",
    "    \n",
    "cursor.close()\n",
    "cnxn.close()"
   ]
  },
  {
   "cell_type": "code",
   "execution_count": null,
   "metadata": {},
   "outputs": [],
   "source": []
  }
 ],
 "metadata": {
  "kernelspec": {
   "display_name": "Python 3",
   "language": "python",
   "name": "python3"
  },
  "language_info": {
   "codemirror_mode": {
    "name": "ipython",
    "version": 3
   },
   "file_extension": ".py",
   "mimetype": "text/x-python",
   "name": "python",
   "nbconvert_exporter": "python",
   "pygments_lexer": "ipython3",
   "version": "3.7.0"
  }
 },
 "nbformat": 4,
 "nbformat_minor": 2
}
